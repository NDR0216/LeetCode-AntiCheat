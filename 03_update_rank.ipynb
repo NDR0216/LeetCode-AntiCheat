{
 "cells": [
  {
   "cell_type": "code",
   "execution_count": null,
   "id": "8c1493a6-176a-4d73-95ec-ad1e4cf8aa3a",
   "metadata": {},
   "outputs": [],
   "source": [
    "import csv\n",
    "import json\n",
    "import sys\n",
    "import urllib.request\n",
    "\n",
    "CONTEST = \"W398\"\n",
    "CONTEST_URL = \"https://leetcode.com/contest/weekly-contest-398/\"\n",
    "CONTEST_API_URL = \"https://leetcode.com/contest/api/ranking/weekly-contest-398/\"\n",
    "\n",
    "headers = {\n",
    "    'accept': 'application/json, text/javascript, */*; q=0.01',\n",
    "    'accept-language': 'en-US,en;q=0.9',\n",
    "    'sec-ch-ua': '\"Google Chrome\";v=\"125\", \"Chromium\";v=\"125\", \"Not.A/Brand\";v=\"24\"',\n",
    "    'sec-fetch-dest': 'empty',\n",
    "    'sec-fetch-mode': 'cors',\n",
    "    'sec-fetch-site': 'same-origin',\n",
    "    'user-agent': 'Mozilla/5.0 (Windows NT 10.0; Win64; x64) AppleWebKit/537.36 (KHTML, like Gecko) Chrome/125.0.0.0 Safari/537.36',\n",
    "}"
   ]
  },
  {
   "cell_type": "code",
   "execution_count": null,
   "id": "553d23e6-417e-4674-af02-86fad8d41825",
   "metadata": {},
   "outputs": [],
   "source": [
    "PAGE = 81\n",
    "\n",
    "user = []\n",
    "for pagination in range(1, PAGE+1):\n",
    "    for k in range(10):\n",
    "        try:\n",
    "            req = urllib.request.Request(CONTEST_API_URL+\"?pagination=\" + str(pagination) +\"&region=global\", headers=headers)\n",
    "            r = urllib.request.urlopen(req).read()\n",
    "            response = json.loads(r)\n",
    "        except:\n",
    "            pass\n",
    "        else:\n",
    "            break\n",
    "    else:\n",
    "        print(pagination)\n",
    "        sys.exit()\n",
    "    \n",
    "    print(pagination)\n",
    "\n",
    "    for i in range(25):\n",
    "        user.append(response[\"total_rank\"][i][\"user_slug\"])\n",
    "    \n",
    "print(\"finished!!!\")"
   ]
  },
  {
   "cell_type": "code",
   "execution_count": null,
   "id": "6b61719c-2a22-43df-a24f-08707a0ad911",
   "metadata": {},
   "outputs": [],
   "source": [
    "QUESTION = \"Q4\"\n",
    "CSV = \"Q4.cpp.csv\"\n",
    "\n",
    "with open(CONTEST+\"/\"+CSV, \"r\") as f:\n",
    "    rows = list(csv.reader(f))\n",
    "\n",
    "DQ = 0\n",
    "with open(\"markdown.txt\", \"w\") as md:\n",
    "    print(\"| rank | user | \"+QUESTION+\"   |\\n| ---- | ---- | ---- |\", file=md)\n",
    "    \n",
    "    with open(CONTEST+\"/\"+CSV, \"w\") as f:\n",
    "        for i in rows:\n",
    "            try:\n",
    "                print(str(user.index(i[1])+1) + \",\" + i[1] + \",\" + i[2], file=f)\n",
    "                print(\"|\", user.index(i[1])+1, \"| [\"+i[1]+\"](https://leetcode.com/u/\"+i[1]+\") |\", CONTEST_URL+\"submissions/detail/\"+i[2], \"|\", file=md)\n",
    "            except:\n",
    "                DQ += 1\n",
    "                print(\"DQ,\" + i[1] + \",\" + i[2], file=f)\n",
    "                print(\"| DQ | [\"+i[1]+\"](https://leetcode.com/u/\"+i[1]+\") |\", CONTEST_URL+\"submissions/detail/\"+i[2], \"|\", file=md)\n",
    "\n",
    "print(\"DQ:\", DQ)"
   ]
  },
  {
   "cell_type": "code",
   "execution_count": null,
   "id": "cc50234c-73d4-4f98-9464-e25efb1c53ef",
   "metadata": {},
   "outputs": [],
   "source": []
  }
 ],
 "metadata": {
  "kernelspec": {
   "display_name": "Python 3 (ipykernel)",
   "language": "python",
   "name": "python3"
  },
  "language_info": {
   "codemirror_mode": {
    "name": "ipython",
    "version": 3
   },
   "file_extension": ".py",
   "mimetype": "text/x-python",
   "name": "python",
   "nbconvert_exporter": "python",
   "pygments_lexer": "ipython3",
   "version": "3.12.0"
  }
 },
 "nbformat": 4,
 "nbformat_minor": 5
}
