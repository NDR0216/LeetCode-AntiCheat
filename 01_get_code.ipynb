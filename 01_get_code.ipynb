{
 "cells": [
  {
   "cell_type": "code",
   "execution_count": 6,
   "id": "4e061050-3296-4d4d-aa15-b6ff2b6b925b",
   "metadata": {},
   "outputs": [],
   "source": [
    "## --- PARAMETER ---\n",
    "CONTEST = \"W401\" # Contest name\n",
    "CONTEST_URL = \"https://leetcode.com/contest/api/ranking/weekly-contest-401\" # API URL\n",
    "\n",
    "PAGE = 257 # how many page gonna fetch \n",
    "\n",
    "headers = {\n",
    "    'accept': 'application/json, text/javascript, */*; q=0.01',\n",
    "    'accept-language': 'en-US,en;q=0.9',\n",
    "    'referer': 'https://leetcode.com/contest/',\n",
    "    'sec-ch-ua': '\"Google Chrome\";v=\"125\", \"Chromium\";v=\"125\", \"Not.A/Brand\";v=\"24\"',\n",
    "    'sec-ch-ua-arch': '\"x86\"',\n",
    "    'sec-ch-ua-bitness': '\"64\"',\n",
    "    'sec-fetch-dest': 'empty',\n",
    "    'sec-fetch-mode': 'cors',\n",
    "    'sec-fetch-site': 'same-origin',\n",
    "    'user-agent': 'Mozilla/5.0 (Windows NT 10.0; Win64; x64) AppleWebKit/537.36 (KHTML, like Gecko) Chrome/125.0.0.0 Safari/537.36',\n",
    "}"
   ]
  },
  {
   "cell_type": "code",
   "execution_count": 2,
   "id": "97eb2584-1bfc-4300-b5a7-7db1b8e5e2a4",
   "metadata": {},
   "outputs": [],
   "source": [
    "import csv\n",
    "import glob\n",
    "import json\n",
    "import os\n",
    "import sys\n",
    "from tqdm import tqdm\n",
    "import urllib.request\n",
    "\n",
    "# create folder\n",
    "try:\n",
    "    os.mkdir(CONTEST)\n",
    "    os.mkdir(CONTEST+\"/Q3\")\n",
    "    os.mkdir(CONTEST+\"/Q4\")\n",
    "    os.mkdir(CONTEST+\"/Q3/0001-1000\")\n",
    "    os.mkdir(CONTEST+\"/Q3/1001-2000\")\n",
    "    os.mkdir(CONTEST+\"/Q3/2001-3000\")\n",
    "    os.mkdir(CONTEST+\"/Q3/3001-4000\")\n",
    "    os.mkdir(CONTEST+\"/Q3/4001-5000\")\n",
    "    os.mkdir(CONTEST+\"/Q3/5001-6000\")\n",
    "    os.mkdir(CONTEST+\"/Q3/6001-7000\")\n",
    "    os.mkdir(CONTEST+\"/Q3/7001-8000\")\n",
    "    os.mkdir(CONTEST+\"/Q4/0001-1000\")\n",
    "    os.mkdir(CONTEST+\"/Q4/1001-2000\")\n",
    "    os.mkdir(CONTEST+\"/Q4/2001-3000\")\n",
    "    os.mkdir(CONTEST+\"/Q4/3001-4000\")\n",
    "    os.mkdir(CONTEST+\"/Q4/4001-5000\")\n",
    "    os.mkdir(CONTEST+\"/Q4/5001-6000\")\n",
    "    os.mkdir(CONTEST+\"/Q4/6001-7000\")\n",
    "    os.mkdir(CONTEST+\"/Q4/7001-8000\")\n",
    "except:\n",
    "    pass"
   ]
  },
  {
   "cell_type": "code",
   "execution_count": 7,
   "id": "bf4604f8-438e-4f2a-b005-42fbf7b28fc9",
   "metadata": {},
   "outputs": [
    {
     "name": "stdout",
     "output_type": "stream",
     "text": [
      "3450 3 Find the Child Who Has the Ball After K Seconds\n",
      "3422 4 Find the N-th Value After K Seconds\n",
      "3442 5 Maximum Total Reward Using Operations I\n",
      "3443 7 Maximum Total Reward Using Operations II\n"
     ]
    }
   ],
   "source": [
    "## get question_id\n",
    "Q = []\n",
    "\n",
    "for _ in range(10):\n",
    "    try:\n",
    "        req = urllib.request.Request(CONTEST_URL, headers=headers)\n",
    "        r = urllib.request.urlopen(req).read()\n",
    "        response = json.loads(r)\n",
    "    except:\n",
    "        pass\n",
    "    else:\n",
    "        break\n",
    "else:\n",
    "    print(\"http request error:\", CONTEST_URL)\n",
    "    sys.exit()\n",
    "    \n",
    "for question in response[\"questions\"]:\n",
    "    Q.append(str(question[\"question_id\"]))\n",
    "    print(question[\"question_id\"], question[\"credit\"], question[\"title\"])"
   ]
  },
  {
   "cell_type": "code",
   "execution_count": null,
   "id": "d54db2aa-5449-4161-a904-f858d7f8f83b",
   "metadata": {},
   "outputs": [],
   "source": [
    "## create the csv to record user name and submission_id\n",
    "with open(CONTEST+\"/\"+CONTEST+\".csv\", \"w\") as f:\n",
    "    f.write(\"user, Q1, Q2, Q3, Q4\\n\");\n",
    "    \n",
    "    for pagination in tqdm(range(1, PAGE+1)):\n",
    "        for _ in range(10):\n",
    "            try:\n",
    "                req = urllib.request.Request(CONTEST_URL+\"?pagination=\" + str(pagination) +\"&region=global\", headers=headers)\n",
    "                r = urllib.request.urlopen(req).read()\n",
    "                response = json.loads(r)\n",
    "            except:\n",
    "                pass\n",
    "            else:\n",
    "                break\n",
    "        else:\n",
    "            print(\"http request error:\", CONTEST_URL+\"?pagination=\" + str(pagination) +\"&region=global\")\n",
    "            sys.exit()\n",
    "\n",
    "        for i in range(25):            \n",
    "            f.write(response[\"total_rank\"][i][\"user_slug\"])\n",
    "            \n",
    "            for j, Q_id in enumerate(Q):\n",
    "                if Q_id not in response[\"submissions\"][i]:\n",
    "                    submission_id = \"\"\n",
    "                else:   \n",
    "                    submission_id = str(response[\"submissions\"][i][Q_id][\"submission_id\"])\n",
    "    \n",
    "                f.write(\",\" + submission_id)\n",
    "\n",
    "            f.write(\"\\n\")"
   ]
  },
  {
   "cell_type": "code",
   "execution_count": 8,
   "id": "803ad5e2-902c-4461-a949-6f17996f67b4",
   "metadata": {},
   "outputs": [
    {
     "name": "stderr",
     "output_type": "stream",
     "text": [
      "100%|██████████████████████████████████████████████████████████████████████████████| 6426/6426 [01:45<00:00, 60.99it/s]"
     ]
    },
    {
     "name": "stdout",
     "output_type": "stream",
     "text": [
      "finished!!!\n"
     ]
    },
    {
     "name": "stderr",
     "output_type": "stream",
     "text": [
      "\n"
     ]
    }
   ],
   "source": [
    "## --- PARAMETER ---\n",
    "## download code\n",
    "Q = 3 # i.e. 4 means Q4\n",
    "\n",
    "def lang_ext(lang):\n",
    "    match lang:\n",
    "        case \"cpp\":\n",
    "            return \"cpp\"\n",
    "        case \"python3\" | \"python\":\n",
    "            return \"py\"\n",
    "        case \"java\":\n",
    "            return \"java\"\n",
    "        case _:\n",
    "            return lang\n",
    "\n",
    "with open(CONTEST+\"/\"+CONTEST+\".csv\") as f:\n",
    "    rows = list(csv.reader(f))\n",
    "\n",
    "    for rank, row in enumerate(tqdm(rows)):\n",
    "        if rank == 0:\n",
    "            continue\n",
    "            \n",
    "        folder = str(rank//1000)+\"001-\"+str(rank//1000+1)+\"000/\"\n",
    "        \n",
    "        if row[Q] and not glob.glob(CONTEST+\"/Q\"+str(Q)+\"/\"+folder+str(rank)+\".*\"):\n",
    "            submission_id = row[Q]\n",
    "            \n",
    "            for _ in range(20):\n",
    "                try:\n",
    "                    req = urllib.request.Request(\"https://leetcode.com/api/submissions/\" + submission_id, headers=headers)\n",
    "                    r = urllib.request.urlopen(req).read()\n",
    "                    response = json.loads(r)\n",
    "                except:\n",
    "                    pass\n",
    "                else:\n",
    "                    with open(CONTEST+\"/Q\"+str(Q)+\"/\"+folder+str(rank)+\".\"+lang_ext(response[\"lang\"]), \"w\", encoding=\"utf-8\") as f2:\n",
    "                        try:\n",
    "                            f2.write(response[\"code\"])\n",
    "                        except:\n",
    "                            print(submission_id)\n",
    "                            sys.exit()\n",
    "                    break\n",
    "            else:\n",
    "                print(\"file missed\", rank, submission_id)\n",
    "\n",
    "print(\"finished!!!\")"
   ]
  },
  {
   "cell_type": "code",
   "execution_count": null,
   "id": "81288931-5c24-481b-8688-b223eacfb6fa",
   "metadata": {},
   "outputs": [],
   "source": []
  }
 ],
 "metadata": {
  "kernelspec": {
   "display_name": "Python 3 (ipykernel)",
   "language": "python",
   "name": "python3"
  },
  "language_info": {
   "codemirror_mode": {
    "name": "ipython",
    "version": 3
   },
   "file_extension": ".py",
   "mimetype": "text/x-python",
   "name": "python",
   "nbconvert_exporter": "python",
   "pygments_lexer": "ipython3",
   "version": "3.12.0"
  }
 },
 "nbformat": 4,
 "nbformat_minor": 5
}
